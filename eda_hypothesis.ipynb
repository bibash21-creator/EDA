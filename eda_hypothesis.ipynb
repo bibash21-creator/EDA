{
 "cells": [
  {
   "cell_type": "markdown",
   "id": "b206f2ac",
   "metadata": {},
   "source": [
    "# EDA  Projects  Begins Here"
   ]
  },
  {
   "cell_type": "code",
   "execution_count": 195,
   "id": "c8cc4f85",
   "metadata": {},
   "outputs": [],
   "source": [
    "# Importing libraries\n",
    "\n",
    "import pandas as pd\n",
    "\n",
    "import numpy as np\n",
    "\n",
    "import matplotlib.pyplot  as plt\n",
    "\n",
    "import seaborn as sbn\n",
    "\n",
    "from scipy import stats\n",
    "\n",
    "from sklearn.model_selection import train_test_split\n",
    "\n",
    "from sklearn.preprocessing import StandardScaler, LabelEncoder\n",
    "\n",
    "from sklearn.linear_model import  LogisticRegression\n",
    "\n",
    "from sklearn.svm import SVC\n",
    "\n",
    "from sklearn.tree import DecisionTreeClassifier\n",
    "\n",
    "from sklearn.ensemble import RandomForestClassifier\n",
    "\n",
    "from sklearn.metrics import accuracy_score, confusion_matrix, classification_report\n"
   ]
  },
  {
   "cell_type": "markdown",
   "id": "bd824645",
   "metadata": {},
   "source": [
    "### Importing the data file"
   ]
  },
  {
   "cell_type": "code",
   "execution_count": 196,
   "id": "178dd95b",
   "metadata": {},
   "outputs": [
    {
     "data": {
      "text/html": [
       "<div>\n",
       "<style scoped>\n",
       "    .dataframe tbody tr th:only-of-type {\n",
       "        vertical-align: middle;\n",
       "    }\n",
       "\n",
       "    .dataframe tbody tr th {\n",
       "        vertical-align: top;\n",
       "    }\n",
       "\n",
       "    .dataframe thead th {\n",
       "        text-align: right;\n",
       "    }\n",
       "</style>\n",
       "<table border=\"1\" class=\"dataframe\">\n",
       "  <thead>\n",
       "    <tr style=\"text-align: right;\">\n",
       "      <th></th>\n",
       "      <th>Loan_ID</th>\n",
       "      <th>Gender</th>\n",
       "      <th>Married</th>\n",
       "      <th>Dependents</th>\n",
       "      <th>Education</th>\n",
       "      <th>Self_Employed</th>\n",
       "      <th>ApplicantIncome</th>\n",
       "      <th>CoapplicantIncome</th>\n",
       "      <th>LoanAmount</th>\n",
       "      <th>Loan_Amount_Term</th>\n",
       "      <th>Credit_History</th>\n",
       "      <th>Property_Area</th>\n",
       "      <th>Loan_Status</th>\n",
       "    </tr>\n",
       "  </thead>\n",
       "  <tbody>\n",
       "    <tr>\n",
       "      <th>0</th>\n",
       "      <td>LP001003</td>\n",
       "      <td>Male</td>\n",
       "      <td>Yes</td>\n",
       "      <td>1</td>\n",
       "      <td>Graduate</td>\n",
       "      <td>No</td>\n",
       "      <td>4583</td>\n",
       "      <td>1508</td>\n",
       "      <td>128</td>\n",
       "      <td>360</td>\n",
       "      <td>1</td>\n",
       "      <td>Urban</td>\n",
       "      <td>Y</td>\n",
       "    </tr>\n",
       "    <tr>\n",
       "      <th>1</th>\n",
       "      <td>LP001005</td>\n",
       "      <td>Male</td>\n",
       "      <td>Yes</td>\n",
       "      <td>0</td>\n",
       "      <td>Graduate</td>\n",
       "      <td>Yes</td>\n",
       "      <td>3000</td>\n",
       "      <td>0</td>\n",
       "      <td>66</td>\n",
       "      <td>360</td>\n",
       "      <td>1</td>\n",
       "      <td>Urban</td>\n",
       "      <td>Y</td>\n",
       "    </tr>\n",
       "    <tr>\n",
       "      <th>2</th>\n",
       "      <td>LP001006</td>\n",
       "      <td>Male</td>\n",
       "      <td>Yes</td>\n",
       "      <td>0</td>\n",
       "      <td>Not Graduate</td>\n",
       "      <td>No</td>\n",
       "      <td>2583</td>\n",
       "      <td>2358</td>\n",
       "      <td>120</td>\n",
       "      <td>360</td>\n",
       "      <td>1</td>\n",
       "      <td>Urban</td>\n",
       "      <td>Y</td>\n",
       "    </tr>\n",
       "    <tr>\n",
       "      <th>3</th>\n",
       "      <td>LP001008</td>\n",
       "      <td>Male</td>\n",
       "      <td>No</td>\n",
       "      <td>0</td>\n",
       "      <td>Graduate</td>\n",
       "      <td>No</td>\n",
       "      <td>6000</td>\n",
       "      <td>0</td>\n",
       "      <td>141</td>\n",
       "      <td>360</td>\n",
       "      <td>1</td>\n",
       "      <td>Urban</td>\n",
       "      <td>Y</td>\n",
       "    </tr>\n",
       "    <tr>\n",
       "      <th>4</th>\n",
       "      <td>LP001011</td>\n",
       "      <td>Male</td>\n",
       "      <td>Yes</td>\n",
       "      <td>2</td>\n",
       "      <td>Graduate</td>\n",
       "      <td>Yes</td>\n",
       "      <td>5417</td>\n",
       "      <td>4196</td>\n",
       "      <td>267</td>\n",
       "      <td>360</td>\n",
       "      <td>1</td>\n",
       "      <td>Urban</td>\n",
       "      <td>Y</td>\n",
       "    </tr>\n",
       "    <tr>\n",
       "      <th>...</th>\n",
       "      <td>...</td>\n",
       "      <td>...</td>\n",
       "      <td>...</td>\n",
       "      <td>...</td>\n",
       "      <td>...</td>\n",
       "      <td>...</td>\n",
       "      <td>...</td>\n",
       "      <td>...</td>\n",
       "      <td>...</td>\n",
       "      <td>...</td>\n",
       "      <td>...</td>\n",
       "      <td>...</td>\n",
       "      <td>...</td>\n",
       "    </tr>\n",
       "    <tr>\n",
       "      <th>146</th>\n",
       "      <td>LP001184</td>\n",
       "      <td>Male</td>\n",
       "      <td>Yes</td>\n",
       "      <td>0</td>\n",
       "      <td>Graduate</td>\n",
       "      <td>No</td>\n",
       "      <td>3166</td>\n",
       "      <td>0</td>\n",
       "      <td>85</td>\n",
       "      <td>360</td>\n",
       "      <td>1</td>\n",
       "      <td>Urban</td>\n",
       "      <td>N</td>\n",
       "    </tr>\n",
       "    <tr>\n",
       "      <th>147</th>\n",
       "      <td>LP001185</td>\n",
       "      <td>Female</td>\n",
       "      <td>No</td>\n",
       "      <td>0</td>\n",
       "      <td>Graduate</td>\n",
       "      <td>No</td>\n",
       "      <td>1917</td>\n",
       "      <td>0</td>\n",
       "      <td>50</td>\n",
       "      <td>360</td>\n",
       "      <td>1</td>\n",
       "      <td>Rural</td>\n",
       "      <td>N</td>\n",
       "    </tr>\n",
       "    <tr>\n",
       "      <th>148</th>\n",
       "      <td>LP001186</td>\n",
       "      <td>Male</td>\n",
       "      <td>Yes</td>\n",
       "      <td>0</td>\n",
       "      <td>Graduate</td>\n",
       "      <td>No</td>\n",
       "      <td>3333</td>\n",
       "      <td>0</td>\n",
       "      <td>85</td>\n",
       "      <td>360</td>\n",
       "      <td>1</td>\n",
       "      <td>Urban</td>\n",
       "      <td>N</td>\n",
       "    </tr>\n",
       "    <tr>\n",
       "      <th>149</th>\n",
       "      <td>LP001187</td>\n",
       "      <td>Male</td>\n",
       "      <td>Yes</td>\n",
       "      <td>0</td>\n",
       "      <td>Graduate</td>\n",
       "      <td>No</td>\n",
       "      <td>3166</td>\n",
       "      <td>0</td>\n",
       "      <td>85</td>\n",
       "      <td>360</td>\n",
       "      <td>1</td>\n",
       "      <td>Urban</td>\n",
       "      <td>N</td>\n",
       "    </tr>\n",
       "    <tr>\n",
       "      <th>150</th>\n",
       "      <td>LP001188</td>\n",
       "      <td>Male</td>\n",
       "      <td>Yes</td>\n",
       "      <td>0</td>\n",
       "      <td>Graduate</td>\n",
       "      <td>No</td>\n",
       "      <td>3166</td>\n",
       "      <td>0</td>\n",
       "      <td>85</td>\n",
       "      <td>360</td>\n",
       "      <td>1</td>\n",
       "      <td>Urban</td>\n",
       "      <td>N</td>\n",
       "    </tr>\n",
       "  </tbody>\n",
       "</table>\n",
       "<p>151 rows × 13 columns</p>\n",
       "</div>"
      ],
      "text/plain": [
       "      Loan_ID  Gender Married Dependents     Education Self_Employed  \\\n",
       "0    LP001003    Male     Yes          1      Graduate            No   \n",
       "1    LP001005    Male     Yes          0      Graduate           Yes   \n",
       "2    LP001006    Male     Yes          0  Not Graduate            No   \n",
       "3    LP001008    Male      No          0      Graduate            No   \n",
       "4    LP001011    Male     Yes          2      Graduate           Yes   \n",
       "..        ...     ...     ...        ...           ...           ...   \n",
       "146  LP001184    Male     Yes          0      Graduate            No   \n",
       "147  LP001185  Female      No          0      Graduate            No   \n",
       "148  LP001186    Male     Yes          0      Graduate            No   \n",
       "149  LP001187    Male     Yes          0      Graduate            No   \n",
       "150  LP001188    Male     Yes          0      Graduate            No   \n",
       "\n",
       "     ApplicantIncome  CoapplicantIncome  LoanAmount  Loan_Amount_Term  \\\n",
       "0               4583               1508         128               360   \n",
       "1               3000                  0          66               360   \n",
       "2               2583               2358         120               360   \n",
       "3               6000                  0         141               360   \n",
       "4               5417               4196         267               360   \n",
       "..               ...                ...         ...               ...   \n",
       "146             3166                  0          85               360   \n",
       "147             1917                  0          50               360   \n",
       "148             3333                  0          85               360   \n",
       "149             3166                  0          85               360   \n",
       "150             3166                  0          85               360   \n",
       "\n",
       "     Credit_History Property_Area Loan_Status  \n",
       "0                 1         Urban           Y  \n",
       "1                 1         Urban           Y  \n",
       "2                 1         Urban           Y  \n",
       "3                 1         Urban           Y  \n",
       "4                 1         Urban           Y  \n",
       "..              ...           ...         ...  \n",
       "146               1         Urban           N  \n",
       "147               1         Rural           N  \n",
       "148               1         Urban           N  \n",
       "149               1         Urban           N  \n",
       "150               1         Urban           N  \n",
       "\n",
       "[151 rows x 13 columns]"
      ]
     },
     "execution_count": 196,
     "metadata": {},
     "output_type": "execute_result"
    }
   ],
   "source": [
    "data= pd.read_csv('loan_data.csv')\n",
    "\n",
    "data"
   ]
  },
  {
   "cell_type": "markdown",
   "id": "93e84df3",
   "metadata": {},
   "source": [
    "### Initial Exploration"
   ]
  },
  {
   "cell_type": "code",
   "execution_count": 197,
   "id": "2a2f397e",
   "metadata": {},
   "outputs": [
    {
     "name": "stdout",
     "output_type": "stream",
     "text": [
      "The shape  of the data is: (151, 13)\n",
      "The columns in the data file is: Index(['Loan_ID', 'Gender', 'Married', 'Dependents', 'Education',\n",
      "       'Self_Employed', 'ApplicantIncome', 'CoapplicantIncome', 'LoanAmount',\n",
      "       'Loan_Amount_Term', 'Credit_History', 'Property_Area', 'Loan_Status'],\n",
      "      dtype='object')\n",
      "\n",
      " Data Types:\n",
      "Loan_ID              object\n",
      "Gender               object\n",
      "Married              object\n",
      "Dependents           object\n",
      "Education            object\n",
      "Self_Employed        object\n",
      "ApplicantIncome       int64\n",
      "CoapplicantIncome     int64\n",
      "LoanAmount            int64\n",
      "Loan_Amount_Term      int64\n",
      "Credit_History        int64\n",
      "Property_Area        object\n",
      "Loan_Status          object\n",
      "dtype: object\n",
      "\n",
      " First Five Rows\n",
      "<bound method NDFrame.head of       Loan_ID  Gender Married Dependents     Education Self_Employed  \\\n",
      "0    LP001003    Male     Yes          1      Graduate            No   \n",
      "1    LP001005    Male     Yes          0      Graduate           Yes   \n",
      "2    LP001006    Male     Yes          0  Not Graduate            No   \n",
      "3    LP001008    Male      No          0      Graduate            No   \n",
      "4    LP001011    Male     Yes          2      Graduate           Yes   \n",
      "..        ...     ...     ...        ...           ...           ...   \n",
      "146  LP001184    Male     Yes          0      Graduate            No   \n",
      "147  LP001185  Female      No          0      Graduate            No   \n",
      "148  LP001186    Male     Yes          0      Graduate            No   \n",
      "149  LP001187    Male     Yes          0      Graduate            No   \n",
      "150  LP001188    Male     Yes          0      Graduate            No   \n",
      "\n",
      "     ApplicantIncome  CoapplicantIncome  LoanAmount  Loan_Amount_Term  \\\n",
      "0               4583               1508         128               360   \n",
      "1               3000                  0          66               360   \n",
      "2               2583               2358         120               360   \n",
      "3               6000                  0         141               360   \n",
      "4               5417               4196         267               360   \n",
      "..               ...                ...         ...               ...   \n",
      "146             3166                  0          85               360   \n",
      "147             1917                  0          50               360   \n",
      "148             3333                  0          85               360   \n",
      "149             3166                  0          85               360   \n",
      "150             3166                  0          85               360   \n",
      "\n",
      "     Credit_History Property_Area Loan_Status  \n",
      "0                 1         Urban           Y  \n",
      "1                 1         Urban           Y  \n",
      "2                 1         Urban           Y  \n",
      "3                 1         Urban           Y  \n",
      "4                 1         Urban           Y  \n",
      "..              ...           ...         ...  \n",
      "146               1         Urban           N  \n",
      "147               1         Rural           N  \n",
      "148               1         Urban           N  \n",
      "149               1         Urban           N  \n",
      "150               1         Urban           N  \n",
      "\n",
      "[151 rows x 13 columns]>\n"
     ]
    }
   ],
   "source": [
    "print(\"The shape  of the data is:\",data.shape)\n",
    "\n",
    "\n",
    "print(\"The columns in the data file is:\", data.columns)\n",
    "\n",
    "print(\"\\n Data Types:\")\n",
    "\n",
    "print(data.dtypes)\n",
    "\n",
    "print(\"\\n First Five Rows\")\n",
    "\n",
    "print(data.head)"
   ]
  },
  {
   "cell_type": "code",
   "execution_count": 198,
   "id": "9ad879f7",
   "metadata": {},
   "outputs": [
    {
     "data": {
      "text/plain": [
       "Loan_ID              0\n",
       "Gender               0\n",
       "Married              0\n",
       "Dependents           0\n",
       "Education            5\n",
       "Self_Employed        0\n",
       "ApplicantIncome      0\n",
       "CoapplicantIncome    0\n",
       "LoanAmount           0\n",
       "Loan_Amount_Term     0\n",
       "Credit_History       0\n",
       "Property_Area        0\n",
       "Loan_Status          0\n",
       "dtype: int64"
      ]
     },
     "execution_count": 198,
     "metadata": {},
     "output_type": "execute_result"
    }
   ],
   "source": [
    "data.isnull().sum()"
   ]
  },
  {
   "cell_type": "markdown",
   "id": "e0ef0ff8",
   "metadata": {},
   "source": [
    "### Seeing the distribution of columns"
   ]
  },
  {
   "cell_type": "code",
   "execution_count": 199,
   "id": "699388be",
   "metadata": {},
   "outputs": [
    {
     "data": {
      "image/png": "[encoded data removed]",
      "text/plain": [
       "<Figure size 800x600 with 1 Axes>"
      ]
     },
     "metadata": {},
     "output_type": "display_data"
    },
    {
     "name": "stdout",
     "output_type": "stream",
     "text": [
      "\n",
      " Applicant ncome Statistics\n",
      "count      151.000000\n",
      "mean      3680.443709\n",
      "std       1971.935035\n",
      "min       1299.000000\n",
      "25%       3036.000000\n",
      "50%       3200.000000\n",
      "75%       3833.000000\n",
      "max      12841.000000\n",
      "Name: ApplicantIncome, dtype: float64\n"
     ]
    }
   ],
   "source": [
    "plt.figure(figsize=(8,6))\n",
    "\n",
    "plt.hist(data['ApplicantIncome'], bins=30, edgecolor=\"black\")\n",
    "\n",
    "plt.title(\"Distribution of Applicant Income\")\n",
    "\n",
    "plt.xlabel(\"Applicant Income\")\n",
    "\n",
    "plt.ylabel(\"Frequency\")\n",
    "\n",
    "plt.show()\n",
    "\n",
    "print(\"\\n Applicant ncome Statistics\")\n",
    "\n",
    "print(data['ApplicantIncome'].describe())"
   ]
  },
  {
   "cell_type": "markdown",
   "id": "153f34c3",
   "metadata": {},
   "source": [
    "### Check which Gender are provided loan more often"
   ]
  },
  {
   "cell_type": "code",
   "execution_count": 200,
   "id": "d2069083",
   "metadata": {},
   "outputs": [
    {
     "name": "stdout",
     "output_type": "stream",
     "text": [
      "\n",
      " Loan approval by Gender:\n",
      "Loan_Status         N         Y\n",
      "Gender                         \n",
      "Female       0.600000  0.400000\n",
      "Male         0.439716  0.560284\n"
     ]
    }
   ],
   "source": [
    "if 'Gender' in data.columns and 'Loan_Status'in data.columns:\n",
    "    loan_by_gender = data.groupby('Gender')['Loan_Status'].value_counts(normalize=True).unstack()\n",
    "    print(\"\\n Loan approval by Gender:\")\n",
    "    print(loan_by_gender)"
   ]
  },
  {
   "cell_type": "markdown",
   "id": "993ecc4b",
   "metadata": {},
   "source": [
    "### Visualizing the above data"
   ]
  },
  {
   "cell_type": "code",
   "execution_count": 201,
   "id": "7fcfa63e",
   "metadata": {},
   "outputs": [
    {
     "data": {
      "text/plain": [
       "<Figure size 800x600 with 0 Axes>"
      ]
     },
     "metadata": {},
     "output_type": "display_data"
    },
    {
     "data": {
      "image/png": "[encoded data removed]",
      "text/plain": [
       "<Figure size 640x480 with 1 Axes>"
      ]
     },
     "metadata": {},
     "output_type": "display_data"
    }
   ],
   "source": [
    "plt.figure(figsize=(8,6))\n",
    "\n",
    "loan_by_gender.plot(kind=\"bar\", stacked = True)\n",
    "\n",
    "plt.title(\"Loan Approval by Gender\")\n",
    "\n",
    "plt.xlabel(\"Gender\")\n",
    "\n",
    "plt.ylabel(\"Proportion\")\n",
    "\n",
    "plt.legend(title= 'Loan Status')\n",
    "\n",
    "plt.show()"
   ]
  },
  {
   "cell_type": "markdown",
   "id": "d72ef3b2",
   "metadata": {},
   "source": [
    "###  Seeing the distribution of all numeric columns"
   ]
  },
  {
   "cell_type": "code",
   "execution_count": 202,
   "id": "cd3b27d9",
   "metadata": {},
   "outputs": [
    {
     "data": {
      "text/plain": [
       "Index(['ApplicantIncome', 'CoapplicantIncome', 'LoanAmount',\n",
       "       'Loan_Amount_Term', 'Credit_History'],\n",
       "      dtype='object')"
      ]
     },
     "execution_count": 202,
     "metadata": {},
     "output_type": "execute_result"
    }
   ],
   "source": [
    "numeric_cols = data.select_dtypes(include = [np.number]).columns\n",
    "\n",
    "numeric_cols"
   ]
  },
  {
   "cell_type": "markdown",
   "id": "526c30ea",
   "metadata": {},
   "source": [
    "### Creating the histogram for all numeric columns"
   ]
  },
  {
   "cell_type": "code",
   "execution_count": 203,
   "id": "5acfb53f",
   "metadata": {},
   "outputs": [
    {
     "data": {
      "text/plain": [
       "<Figure size 1500x2000 with 0 Axes>"
      ]
     },
     "metadata": {},
     "output_type": "display_data"
    },
    {
     "data": {
      "image/png": "[encoded data removed]",
      "text/plain": [
       "<Figure size 1500x1000 with 6 Axes>"
      ]
     },
     "metadata": {},
     "output_type": "display_data"
    }
   ],
   "source": [
    "plt.figure(figsize= (15,20))\n",
    "\n",
    "data[numeric_cols].hist(bins=30, figsize=(15,10), edgecolor=\"black\")\n",
    "\n",
    "plt.suptitle(\"Distribution of Numeric Columns\")\n",
    "\n",
    "plt.tight_layout()\n",
    "\n",
    "plt.show()"
   ]
  },
  {
   "cell_type": "markdown",
   "id": "c19526ce",
   "metadata": {},
   "source": [
    "### Checking if people provided with loan have higher income"
   ]
  },
  {
   "cell_type": "code",
   "execution_count": 204,
   "id": "722cfcbf",
   "metadata": {},
   "outputs": [
    {
     "name": "stdout",
     "output_type": "stream",
     "text": [
      "0      4583\n",
      "1      3000\n",
      "2      2583\n",
      "3      6000\n",
      "4      5417\n",
      "       ... \n",
      "112    3500\n",
      "113    3333\n",
      "114    3833\n",
      "115    3166\n",
      "116    3166\n",
      "Name: ApplicantIncome, Length: 83, dtype: int64\n"
     ]
    }
   ],
   "source": [
    "if 'Loan_Status' in data.columns and 'ApplicantIncome' in data.columns:\n",
    "    approved_income = data[data['Loan_Status']== 'Y']['ApplicantIncome']\n",
    "\n",
    "    rejected_income = data[data['Loan_Status']== 'N']['ApplicantIncome']\n",
    "\n",
    "print(approved_income)"
   ]
  },
  {
   "cell_type": "markdown",
   "id": "6d4453b0",
   "metadata": {},
   "source": [
    "### T-Testing to check significance"
   ]
  },
  {
   "cell_type": "code",
   "execution_count": 205,
   "id": "594c5668",
   "metadata": {},
   "outputs": [
    {
     "name": "stdout",
     "output_type": "stream",
     "text": [
      "\n",
      " Income Comparison:\n",
      "Approved applicants mean income: 3767.96\n",
      "Rejected applicant mean income is: 3573.62\n",
      "T-Statistic: 0.6013, P_value: 0.5486\n"
     ]
    }
   ],
   "source": [
    "t_stat, p_value = stats.ttest_ind(approved_income, rejected_income, nan_policy='omit')\n",
    "\n",
    "print(f\"\\n Income Comparison:\")\n",
    "\n",
    "print(f\"Approved applicants mean income: {approved_income.mean():.2f}\")\n",
    "\n",
    "print(f\"Rejected applicant mean income is: {rejected_income.mean():.2f}\")\n",
    "\n",
    "print(f\"T-Statistic: {t_stat:.4f}, P_value: {p_value:.4f}\")"
   ]
  },
  {
   "cell_type": "code",
   "execution_count": 206,
   "id": "03685ca1",
   "metadata": {},
   "outputs": [
    {
     "name": "stdout",
     "output_type": "stream",
     "text": [
      "No significant differences in income between approved and rejected applicants.\n"
     ]
    }
   ],
   "source": [
    "if p_value < 0.05:\n",
    "    print(\"Significant difference in income between approved and rejected applicants\")\n",
    "else:\n",
    "    print(\"No significant differences in income between approved and rejected applicants.\")"
   ]
  },
  {
   "cell_type": "markdown",
   "id": "30a69bb2",
   "metadata": {},
   "source": [
    "### Checking Null Values Presence in Data"
   ]
  },
  {
   "cell_type": "code",
   "execution_count": 207,
   "id": "f9131204",
   "metadata": {},
   "outputs": [
    {
     "name": "stdout",
     "output_type": "stream",
     "text": [
      "\n",
      " No. of null values in data\n",
      "Loan_ID              0\n",
      "Gender               0\n",
      "Married              0\n",
      "Dependents           0\n",
      "Education            5\n",
      "Self_Employed        0\n",
      "ApplicantIncome      0\n",
      "CoapplicantIncome    0\n",
      "LoanAmount           0\n",
      "Loan_Amount_Term     0\n",
      "Credit_History       0\n",
      "Property_Area        0\n",
      "Loan_Status          0\n",
      "dtype: int64\n"
     ]
    }
   ],
   "source": [
    "print(\"\\n No. of null values in data\")\n",
    "print(data.isnull().sum())"
   ]
  },
  {
   "cell_type": "markdown",
   "id": "00b54194",
   "metadata": {},
   "source": [
    "### Separating the numeric_columns and categorical_columns"
   ]
  },
  {
   "cell_type": "code",
   "execution_count": 208,
   "id": "62b5d28e",
   "metadata": {},
   "outputs": [],
   "source": [
    "numeric_cols = data.select_dtypes(include = [np.number]).columns\n",
    "\n",
    "categorical_cols = data.select_dtypes(include= ['object']).columns"
   ]
  },
  {
   "cell_type": "code",
   "execution_count": 209,
   "id": "ccd9f6f3",
   "metadata": {},
   "outputs": [
    {
     "name": "stdout",
     "output_type": "stream",
     "text": [
      "Index(['ApplicantIncome', 'CoapplicantIncome', 'LoanAmount',\n",
      "       'Loan_Amount_Term', 'Credit_History'],\n",
      "      dtype='object')\n"
     ]
    }
   ],
   "source": [
    "print(numeric_cols)"
   ]
  },
  {
   "cell_type": "code",
   "execution_count": 210,
   "id": "e4e9d3f3",
   "metadata": {},
   "outputs": [
    {
     "name": "stdout",
     "output_type": "stream",
     "text": [
      "Index(['Loan_ID', 'Gender', 'Married', 'Dependents', 'Education',\n",
      "       'Self_Employed', 'Property_Area', 'Loan_Status'],\n",
      "      dtype='object')\n"
     ]
    }
   ],
   "source": [
    "print(categorical_cols)"
   ]
  },
  {
   "cell_type": "markdown",
   "id": "27e0e0d1",
   "metadata": {},
   "source": [
    "### Skewness Means Comparison of Mean, Median "
   ]
  },
  {
   "cell_type": "markdown",
   "id": "b77522d0",
   "metadata": {},
   "source": [
    "#### If Mean>Median, it is Right-Skewed and vice-versa for Left-Skewed and Mean=Median means Symmetric"
   ]
  },
  {
   "cell_type": "markdown",
   "id": "aa15f11a",
   "metadata": {},
   "source": [
    "### Checking Skewness of Numerical_Cols"
   ]
  },
  {
   "cell_type": "code",
   "execution_count": 211,
   "id": "a05c0604",
   "metadata": {},
   "outputs": [
    {
     "data": {
      "text/plain": [
       "Index(['ApplicantIncome', 'CoapplicantIncome', 'LoanAmount',\n",
       "       'Loan_Amount_Term', 'Credit_History'],\n",
       "      dtype='object')"
      ]
     },
     "execution_count": 211,
     "metadata": {},
     "output_type": "execute_result"
    }
   ],
   "source": [
    "numeric_cols"
   ]
  },
  {
   "cell_type": "code",
   "execution_count": 212,
   "id": "5e8f23a8",
   "metadata": {},
   "outputs": [
    {
     "name": "stdout",
     "output_type": "stream",
     "text": [
      "1382.3576158940398\n"
     ]
    }
   ],
   "source": [
    "print(data['CoapplicantIncome'].mean())\n"
   ]
  },
  {
   "cell_type": "code",
   "execution_count": 213,
   "id": "f677ae5c",
   "metadata": {},
   "outputs": [
    {
     "name": "stdout",
     "output_type": "stream",
     "text": [
      "3680.4437086092717\n",
      "3200.0\n"
     ]
    }
   ],
   "source": [
    "print(data['ApplicantIncome'].mean())\n",
    "\n",
    "print(data['ApplicantIncome'].median())"
   ]
  },
  {
   "cell_type": "markdown",
   "id": "f4f4b61c",
   "metadata": {},
   "source": [
    "### Creating a copy for imputation"
   ]
  },
  {
   "cell_type": "code",
   "execution_count": 214,
   "id": "dfa32e62",
   "metadata": {},
   "outputs": [],
   "source": [
    "data_imputed = data.copy()"
   ]
  },
  {
   "cell_type": "markdown",
   "id": "c192b147",
   "metadata": {},
   "source": [
    "\n",
    "### Imputing categorical columns with mode"
   ]
  },
  {
   "cell_type": "code",
   "execution_count": 215,
   "id": "84477fc6",
   "metadata": {},
   "outputs": [
    {
     "name": "stderr",
     "output_type": "stream",
     "text": [
      "C:\\Users\\hp\\AppData\\Local\\Temp\\ipykernel_15740\\896615902.py:4: FutureWarning: A value is trying to be set on a copy of a DataFrame or Series through chained assignment using an inplace method.\n",
      "The behavior will change in pandas 3.0. This inplace method will never work because the intermediate object on which we are setting values always behaves as a copy.\n",
      "\n",
      "For example, when doing 'df[col].method(value, inplace=True)', try using 'df.method({col: value}, inplace=True)' or df[col] = df[col].method(value) instead, to perform the operation inplace on the original object.\n",
      "\n",
      "\n",
      "  data_imputed[col].fillna(mode_val, inplace=True)\n"
     ]
    }
   ],
   "source": [
    "for col in categorical_cols:\n",
    "    if data[col].isnull().sum() >0:\n",
    "        mode_val = data_imputed[col].mode()[0]\n",
    "        data_imputed[col].fillna(mode_val, inplace=True)"
   ]
  },
  {
   "cell_type": "markdown",
   "id": "39fea9e4",
   "metadata": {},
   "source": [
    "### Imputing the numerical columns with median"
   ]
  },
  {
   "cell_type": "code",
   "execution_count": 216,
   "id": "9ed357ae",
   "metadata": {},
   "outputs": [
    {
     "name": "stdout",
     "output_type": "stream",
     "text": [
      "\n",
      " Null values after imputation:\n",
      "Loan_ID              0\n",
      "Gender               0\n",
      "Married              0\n",
      "Dependents           0\n",
      "Education            0\n",
      "Self_Employed        0\n",
      "ApplicantIncome      0\n",
      "CoapplicantIncome    0\n",
      "LoanAmount           0\n",
      "Loan_Amount_Term     0\n",
      "Credit_History       0\n",
      "Property_Area        0\n",
      "Loan_Status          0\n",
      "dtype: int64\n"
     ]
    }
   ],
   "source": [
    "for col in numeric_cols:\n",
    "    if data_imputed[col].isnull().sum() > 0:\n",
    "        # Check id data is skewed \n",
    "        skewness = data_imputed[col].skew()\n",
    "\n",
    "        if abs(skewness)>1:\n",
    "\n",
    "            # Using median for skewed data\n",
    "            median_val = data_imputed[col].median()\n",
    "            data_imputed[col].fillna(median_val, inplace=True)\n",
    "            print(f\"Imputed {col} (skewed: {skewness:.2f}) with median: {median_val}\")\n",
    "\n",
    "        else:\n",
    "\n",
    "            # Use  mean for normally distributed data\n",
    "            mean_val = data_imputed[col].mean()\n",
    "            data_imputed[col].fillna(mean_val, inplace=True)\n",
    "            print(f\"Imputed {col} (normal: {skewness:.2f}) with mean: {mean_val:.2f}\")\n",
    "\n",
    "print(\"\\n Null values after imputation:\")\n",
    "print(data_imputed.isnull().sum())\n"
   ]
  },
  {
   "cell_type": "markdown",
   "id": "ca669b8f",
   "metadata": {},
   "source": [
    "### Fitting the classification model"
   ]
  },
  {
   "cell_type": "code",
   "execution_count": 217,
   "id": "fb73bc8c",
   "metadata": {},
   "outputs": [],
   "source": [
    "x = data_imputed.drop('Loan_Status', axis= 1)\n",
    "\n",
    "y = data_imputed['Loan_Status']"
   ]
  },
  {
   "cell_type": "code",
   "execution_count": 218,
   "id": "0db9e058",
   "metadata": {},
   "outputs": [
    {
     "data": {
      "text/html": [
       "<div>\n",
       "<style scoped>\n",
       "    .dataframe tbody tr th:only-of-type {\n",
       "        vertical-align: middle;\n",
       "    }\n",
       "\n",
       "    .dataframe tbody tr th {\n",
       "        vertical-align: top;\n",
       "    }\n",
       "\n",
       "    .dataframe thead th {\n",
       "        text-align: right;\n",
       "    }\n",
       "</style>\n",
       "<table border=\"1\" class=\"dataframe\">\n",
       "  <thead>\n",
       "    <tr style=\"text-align: right;\">\n",
       "      <th></th>\n",
       "      <th>Loan_ID</th>\n",
       "      <th>Gender</th>\n",
       "      <th>Married</th>\n",
       "      <th>Dependents</th>\n",
       "      <th>Education</th>\n",
       "      <th>Self_Employed</th>\n",
       "      <th>ApplicantIncome</th>\n",
       "      <th>CoapplicantIncome</th>\n",
       "      <th>LoanAmount</th>\n",
       "      <th>Loan_Amount_Term</th>\n",
       "      <th>Credit_History</th>\n",
       "      <th>Property_Area</th>\n",
       "    </tr>\n",
       "  </thead>\n",
       "  <tbody>\n",
       "    <tr>\n",
       "      <th>0</th>\n",
       "      <td>LP001003</td>\n",
       "      <td>Male</td>\n",
       "      <td>Yes</td>\n",
       "      <td>1</td>\n",
       "      <td>Graduate</td>\n",
       "      <td>No</td>\n",
       "      <td>4583</td>\n",
       "      <td>1508</td>\n",
       "      <td>128</td>\n",
       "      <td>360</td>\n",
       "      <td>1</td>\n",
       "      <td>Urban</td>\n",
       "    </tr>\n",
       "    <tr>\n",
       "      <th>1</th>\n",
       "      <td>LP001005</td>\n",
       "      <td>Male</td>\n",
       "      <td>Yes</td>\n",
       "      <td>0</td>\n",
       "      <td>Graduate</td>\n",
       "      <td>Yes</td>\n",
       "      <td>3000</td>\n",
       "      <td>0</td>\n",
       "      <td>66</td>\n",
       "      <td>360</td>\n",
       "      <td>1</td>\n",
       "      <td>Urban</td>\n",
       "    </tr>\n",
       "    <tr>\n",
       "      <th>2</th>\n",
       "      <td>LP001006</td>\n",
       "      <td>Male</td>\n",
       "      <td>Yes</td>\n",
       "      <td>0</td>\n",
       "      <td>Not Graduate</td>\n",
       "      <td>No</td>\n",
       "      <td>2583</td>\n",
       "      <td>2358</td>\n",
       "      <td>120</td>\n",
       "      <td>360</td>\n",
       "      <td>1</td>\n",
       "      <td>Urban</td>\n",
       "    </tr>\n",
       "    <tr>\n",
       "      <th>3</th>\n",
       "      <td>LP001008</td>\n",
       "      <td>Male</td>\n",
       "      <td>No</td>\n",
       "      <td>0</td>\n",
       "      <td>Graduate</td>\n",
       "      <td>No</td>\n",
       "      <td>6000</td>\n",
       "      <td>0</td>\n",
       "      <td>141</td>\n",
       "      <td>360</td>\n",
       "      <td>1</td>\n",
       "      <td>Urban</td>\n",
       "    </tr>\n",
       "    <tr>\n",
       "      <th>4</th>\n",
       "      <td>LP001011</td>\n",
       "      <td>Male</td>\n",
       "      <td>Yes</td>\n",
       "      <td>2</td>\n",
       "      <td>Graduate</td>\n",
       "      <td>Yes</td>\n",
       "      <td>5417</td>\n",
       "      <td>4196</td>\n",
       "      <td>267</td>\n",
       "      <td>360</td>\n",
       "      <td>1</td>\n",
       "      <td>Urban</td>\n",
       "    </tr>\n",
       "    <tr>\n",
       "      <th>...</th>\n",
       "      <td>...</td>\n",
       "      <td>...</td>\n",
       "      <td>...</td>\n",
       "      <td>...</td>\n",
       "      <td>...</td>\n",
       "      <td>...</td>\n",
       "      <td>...</td>\n",
       "      <td>...</td>\n",
       "      <td>...</td>\n",
       "      <td>...</td>\n",
       "      <td>...</td>\n",
       "      <td>...</td>\n",
       "    </tr>\n",
       "    <tr>\n",
       "      <th>146</th>\n",
       "      <td>LP001184</td>\n",
       "      <td>Male</td>\n",
       "      <td>Yes</td>\n",
       "      <td>0</td>\n",
       "      <td>Graduate</td>\n",
       "      <td>No</td>\n",
       "      <td>3166</td>\n",
       "      <td>0</td>\n",
       "      <td>85</td>\n",
       "      <td>360</td>\n",
       "      <td>1</td>\n",
       "      <td>Urban</td>\n",
       "    </tr>\n",
       "    <tr>\n",
       "      <th>147</th>\n",
       "      <td>LP001185</td>\n",
       "      <td>Female</td>\n",
       "      <td>No</td>\n",
       "      <td>0</td>\n",
       "      <td>Graduate</td>\n",
       "      <td>No</td>\n",
       "      <td>1917</td>\n",
       "      <td>0</td>\n",
       "      <td>50</td>\n",
       "      <td>360</td>\n",
       "      <td>1</td>\n",
       "      <td>Rural</td>\n",
       "    </tr>\n",
       "    <tr>\n",
       "      <th>148</th>\n",
       "      <td>LP001186</td>\n",
       "      <td>Male</td>\n",
       "      <td>Yes</td>\n",
       "      <td>0</td>\n",
       "      <td>Graduate</td>\n",
       "      <td>No</td>\n",
       "      <td>3333</td>\n",
       "      <td>0</td>\n",
       "      <td>85</td>\n",
       "      <td>360</td>\n",
       "      <td>1</td>\n",
       "      <td>Urban</td>\n",
       "    </tr>\n",
       "    <tr>\n",
       "      <th>149</th>\n",
       "      <td>LP001187</td>\n",
       "      <td>Male</td>\n",
       "      <td>Yes</td>\n",
       "      <td>0</td>\n",
       "      <td>Graduate</td>\n",
       "      <td>No</td>\n",
       "      <td>3166</td>\n",
       "      <td>0</td>\n",
       "      <td>85</td>\n",
       "      <td>360</td>\n",
       "      <td>1</td>\n",
       "      <td>Urban</td>\n",
       "    </tr>\n",
       "    <tr>\n",
       "      <th>150</th>\n",
       "      <td>LP001188</td>\n",
       "      <td>Male</td>\n",
       "      <td>Yes</td>\n",
       "      <td>0</td>\n",
       "      <td>Graduate</td>\n",
       "      <td>No</td>\n",
       "      <td>3166</td>\n",
       "      <td>0</td>\n",
       "      <td>85</td>\n",
       "      <td>360</td>\n",
       "      <td>1</td>\n",
       "      <td>Urban</td>\n",
       "    </tr>\n",
       "  </tbody>\n",
       "</table>\n",
       "<p>151 rows × 12 columns</p>\n",
       "</div>"
      ],
      "text/plain": [
       "      Loan_ID  Gender Married Dependents     Education Self_Employed  \\\n",
       "0    LP001003    Male     Yes          1      Graduate            No   \n",
       "1    LP001005    Male     Yes          0      Graduate           Yes   \n",
       "2    LP001006    Male     Yes          0  Not Graduate            No   \n",
       "3    LP001008    Male      No          0      Graduate            No   \n",
       "4    LP001011    Male     Yes          2      Graduate           Yes   \n",
       "..        ...     ...     ...        ...           ...           ...   \n",
       "146  LP001184    Male     Yes          0      Graduate            No   \n",
       "147  LP001185  Female      No          0      Graduate            No   \n",
       "148  LP001186    Male     Yes          0      Graduate            No   \n",
       "149  LP001187    Male     Yes          0      Graduate            No   \n",
       "150  LP001188    Male     Yes          0      Graduate            No   \n",
       "\n",
       "     ApplicantIncome  CoapplicantIncome  LoanAmount  Loan_Amount_Term  \\\n",
       "0               4583               1508         128               360   \n",
       "1               3000                  0          66               360   \n",
       "2               2583               2358         120               360   \n",
       "3               6000                  0         141               360   \n",
       "4               5417               4196         267               360   \n",
       "..               ...                ...         ...               ...   \n",
       "146             3166                  0          85               360   \n",
       "147             1917                  0          50               360   \n",
       "148             3333                  0          85               360   \n",
       "149             3166                  0          85               360   \n",
       "150             3166                  0          85               360   \n",
       "\n",
       "     Credit_History Property_Area  \n",
       "0                 1         Urban  \n",
       "1                 1         Urban  \n",
       "2                 1         Urban  \n",
       "3                 1         Urban  \n",
       "4                 1         Urban  \n",
       "..              ...           ...  \n",
       "146               1         Urban  \n",
       "147               1         Rural  \n",
       "148               1         Urban  \n",
       "149               1         Urban  \n",
       "150               1         Urban  \n",
       "\n",
       "[151 rows x 12 columns]"
      ]
     },
     "execution_count": 218,
     "metadata": {},
     "output_type": "execute_result"
    }
   ],
   "source": [
    "x"
   ]
  },
  {
   "cell_type": "code",
   "execution_count": 219,
   "id": "ed4f422f",
   "metadata": {},
   "outputs": [
    {
     "data": {
      "text/plain": [
       "0      Y\n",
       "1      Y\n",
       "2      Y\n",
       "3      Y\n",
       "4      Y\n",
       "      ..\n",
       "146    N\n",
       "147    N\n",
       "148    N\n",
       "149    N\n",
       "150    N\n",
       "Name: Loan_Status, Length: 151, dtype: object"
      ]
     },
     "execution_count": 219,
     "metadata": {},
     "output_type": "execute_result"
    }
   ],
   "source": [
    "y"
   ]
  },
  {
   "cell_type": "markdown",
   "id": "06645437",
   "metadata": {},
   "source": [
    "### Label Encoding "
   ]
  },
  {
   "cell_type": "code",
   "execution_count": 220,
   "id": "c06fa25f",
   "metadata": {},
   "outputs": [
    {
     "data": {
      "text/plain": [
       "{'Loan_ID': LabelEncoder(),\n",
       " 'Gender': LabelEncoder(),\n",
       " 'Married': LabelEncoder(),\n",
       " 'Dependents': LabelEncoder(),\n",
       " 'Education': LabelEncoder(),\n",
       " 'Self_Employed': LabelEncoder(),\n",
       " 'Property_Area': LabelEncoder()}"
      ]
     },
     "execution_count": 220,
     "metadata": {},
     "output_type": "execute_result"
    }
   ],
   "source": [
    "label_encoders = {}\n",
    "\n",
    "for col in x.select_dtypes(include=['object']).columns:\n",
    "    le = LabelEncoder()\n",
    "\n",
    "    x[col] = le.fit_transform(x[col].astype(str))\n",
    "\n",
    "    label_encoders[col] = le\n",
    "\n",
    "label_encoders"
   ]
  },
  {
   "cell_type": "markdown",
   "id": "067c07ad",
   "metadata": {},
   "source": [
    "#### Encoding the target variable"
   ]
  },
  {
   "cell_type": "code",
   "execution_count": 221,
   "id": "53d3e725",
   "metadata": {},
   "outputs": [
    {
     "data": {
      "text/plain": [
       "array([1, 1, 1, 1, 1, 1, 1, 1, 1, 1, 1, 1, 1, 1, 1, 1, 1, 1, 1, 1, 1, 1,\n",
       "       1, 1, 1, 1, 1, 1, 1, 1, 1, 1, 1, 1, 1, 1, 1, 1, 1, 1, 1, 1, 1, 1,\n",
       "       1, 1, 1, 1, 1, 1, 1, 1, 1, 1, 0, 0, 0, 0, 0, 0, 0, 0, 0, 0, 0, 0,\n",
       "       0, 0, 0, 0, 0, 0, 0, 0, 0, 0, 0, 0, 0, 0, 0, 0, 0, 0, 0, 0, 0, 0,\n",
       "       1, 1, 1, 1, 1, 1, 1, 1, 1, 1, 1, 1, 1, 1, 1, 1, 1, 1, 1, 1, 1, 1,\n",
       "       1, 1, 1, 1, 1, 1, 1, 0, 0, 0, 0, 0, 0, 0, 0, 0, 0, 0, 0, 0, 0, 0,\n",
       "       0, 0, 0, 0, 0, 0, 0, 0, 0, 0, 0, 0, 0, 0, 0, 0, 0, 0, 0])"
      ]
     },
     "execution_count": 221,
     "metadata": {},
     "output_type": "execute_result"
    }
   ],
   "source": [
    "y = le.fit_transform(y)\n",
    "\n",
    "y"
   ]
  },
  {
   "cell_type": "markdown",
   "id": "b6807688",
   "metadata": {},
   "source": [
    "### Splitting the data"
   ]
  },
  {
   "cell_type": "code",
   "execution_count": 222,
   "id": "6c9fff95",
   "metadata": {},
   "outputs": [],
   "source": [
    "x_train, x_test, y_train, y_test = train_test_split(x,y,test_size=0.2, random_state= 42)"
   ]
  },
  {
   "cell_type": "code",
   "execution_count": 223,
   "id": "e693a767",
   "metadata": {},
   "outputs": [
    {
     "data": {
      "text/html": [
       "<div>\n",
       "<style scoped>\n",
       "    .dataframe tbody tr th:only-of-type {\n",
       "        vertical-align: middle;\n",
       "    }\n",
       "\n",
       "    .dataframe tbody tr th {\n",
       "        vertical-align: top;\n",
       "    }\n",
       "\n",
       "    .dataframe thead th {\n",
       "        text-align: right;\n",
       "    }\n",
       "</style>\n",
       "<table border=\"1\" class=\"dataframe\">\n",
       "  <thead>\n",
       "    <tr style=\"text-align: right;\">\n",
       "      <th></th>\n",
       "      <th>Loan_ID</th>\n",
       "      <th>Gender</th>\n",
       "      <th>Married</th>\n",
       "      <th>Dependents</th>\n",
       "      <th>Education</th>\n",
       "      <th>Self_Employed</th>\n",
       "      <th>ApplicantIncome</th>\n",
       "      <th>CoapplicantIncome</th>\n",
       "      <th>LoanAmount</th>\n",
       "      <th>Loan_Amount_Term</th>\n",
       "      <th>Credit_History</th>\n",
       "      <th>Property_Area</th>\n",
       "    </tr>\n",
       "  </thead>\n",
       "  <tbody>\n",
       "    <tr>\n",
       "      <th>15</th>\n",
       "      <td>15</td>\n",
       "      <td>1</td>\n",
       "      <td>1</td>\n",
       "      <td>0</td>\n",
       "      <td>0</td>\n",
       "      <td>0</td>\n",
       "      <td>3596</td>\n",
       "      <td>0</td>\n",
       "      <td>100</td>\n",
       "      <td>360</td>\n",
       "      <td>1</td>\n",
       "      <td>2</td>\n",
       "    </tr>\n",
       "    <tr>\n",
       "      <th>125</th>\n",
       "      <td>125</td>\n",
       "      <td>1</td>\n",
       "      <td>1</td>\n",
       "      <td>3</td>\n",
       "      <td>0</td>\n",
       "      <td>0</td>\n",
       "      <td>3036</td>\n",
       "      <td>2504</td>\n",
       "      <td>158</td>\n",
       "      <td>360</td>\n",
       "      <td>1</td>\n",
       "      <td>1</td>\n",
       "    </tr>\n",
       "    <tr>\n",
       "      <th>11</th>\n",
       "      <td>11</td>\n",
       "      <td>1</td>\n",
       "      <td>1</td>\n",
       "      <td>2</td>\n",
       "      <td>0</td>\n",
       "      <td>0</td>\n",
       "      <td>3073</td>\n",
       "      <td>8106</td>\n",
       "      <td>208</td>\n",
       "      <td>360</td>\n",
       "      <td>1</td>\n",
       "      <td>2</td>\n",
       "    </tr>\n",
       "    <tr>\n",
       "      <th>127</th>\n",
       "      <td>127</td>\n",
       "      <td>1</td>\n",
       "      <td>1</td>\n",
       "      <td>1</td>\n",
       "      <td>0</td>\n",
       "      <td>0</td>\n",
       "      <td>12841</td>\n",
       "      <td>10968</td>\n",
       "      <td>349</td>\n",
       "      <td>360</td>\n",
       "      <td>1</td>\n",
       "      <td>1</td>\n",
       "    </tr>\n",
       "    <tr>\n",
       "      <th>51</th>\n",
       "      <td>51</td>\n",
       "      <td>1</td>\n",
       "      <td>1</td>\n",
       "      <td>0</td>\n",
       "      <td>0</td>\n",
       "      <td>0</td>\n",
       "      <td>3833</td>\n",
       "      <td>0</td>\n",
       "      <td>100</td>\n",
       "      <td>360</td>\n",
       "      <td>1</td>\n",
       "      <td>2</td>\n",
       "    </tr>\n",
       "    <tr>\n",
       "      <th>...</th>\n",
       "      <td>...</td>\n",
       "      <td>...</td>\n",
       "      <td>...</td>\n",
       "      <td>...</td>\n",
       "      <td>...</td>\n",
       "      <td>...</td>\n",
       "      <td>...</td>\n",
       "      <td>...</td>\n",
       "      <td>...</td>\n",
       "      <td>...</td>\n",
       "      <td>...</td>\n",
       "      <td>...</td>\n",
       "    </tr>\n",
       "    <tr>\n",
       "      <th>71</th>\n",
       "      <td>71</td>\n",
       "      <td>1</td>\n",
       "      <td>1</td>\n",
       "      <td>0</td>\n",
       "      <td>0</td>\n",
       "      <td>0</td>\n",
       "      <td>3596</td>\n",
       "      <td>0</td>\n",
       "      <td>100</td>\n",
       "      <td>360</td>\n",
       "      <td>1</td>\n",
       "      <td>2</td>\n",
       "    </tr>\n",
       "    <tr>\n",
       "      <th>106</th>\n",
       "      <td>106</td>\n",
       "      <td>1</td>\n",
       "      <td>1</td>\n",
       "      <td>2</td>\n",
       "      <td>0</td>\n",
       "      <td>0</td>\n",
       "      <td>4887</td>\n",
       "      <td>0</td>\n",
       "      <td>133</td>\n",
       "      <td>360</td>\n",
       "      <td>1</td>\n",
       "      <td>2</td>\n",
       "    </tr>\n",
       "    <tr>\n",
       "      <th>14</th>\n",
       "      <td>14</td>\n",
       "      <td>1</td>\n",
       "      <td>1</td>\n",
       "      <td>0</td>\n",
       "      <td>0</td>\n",
       "      <td>0</td>\n",
       "      <td>4950</td>\n",
       "      <td>0</td>\n",
       "      <td>124</td>\n",
       "      <td>360</td>\n",
       "      <td>1</td>\n",
       "      <td>2</td>\n",
       "    </tr>\n",
       "    <tr>\n",
       "      <th>92</th>\n",
       "      <td>92</td>\n",
       "      <td>1</td>\n",
       "      <td>0</td>\n",
       "      <td>0</td>\n",
       "      <td>0</td>\n",
       "      <td>0</td>\n",
       "      <td>6000</td>\n",
       "      <td>0</td>\n",
       "      <td>141</td>\n",
       "      <td>360</td>\n",
       "      <td>1</td>\n",
       "      <td>2</td>\n",
       "    </tr>\n",
       "    <tr>\n",
       "      <th>102</th>\n",
       "      <td>102</td>\n",
       "      <td>1</td>\n",
       "      <td>1</td>\n",
       "      <td>1</td>\n",
       "      <td>0</td>\n",
       "      <td>0</td>\n",
       "      <td>1299</td>\n",
       "      <td>1086</td>\n",
       "      <td>68</td>\n",
       "      <td>360</td>\n",
       "      <td>1</td>\n",
       "      <td>2</td>\n",
       "    </tr>\n",
       "  </tbody>\n",
       "</table>\n",
       "<p>120 rows × 12 columns</p>\n",
       "</div>"
      ],
      "text/plain": [
       "     Loan_ID  Gender  Married  Dependents  Education  Self_Employed  \\\n",
       "15        15       1        1           0          0              0   \n",
       "125      125       1        1           3          0              0   \n",
       "11        11       1        1           2          0              0   \n",
       "127      127       1        1           1          0              0   \n",
       "51        51       1        1           0          0              0   \n",
       "..       ...     ...      ...         ...        ...            ...   \n",
       "71        71       1        1           0          0              0   \n",
       "106      106       1        1           2          0              0   \n",
       "14        14       1        1           0          0              0   \n",
       "92        92       1        0           0          0              0   \n",
       "102      102       1        1           1          0              0   \n",
       "\n",
       "     ApplicantIncome  CoapplicantIncome  LoanAmount  Loan_Amount_Term  \\\n",
       "15              3596                  0         100               360   \n",
       "125             3036               2504         158               360   \n",
       "11              3073               8106         208               360   \n",
       "127            12841              10968         349               360   \n",
       "51              3833                  0         100               360   \n",
       "..               ...                ...         ...               ...   \n",
       "71              3596                  0         100               360   \n",
       "106             4887                  0         133               360   \n",
       "14              4950                  0         124               360   \n",
       "92              6000                  0         141               360   \n",
       "102             1299               1086          68               360   \n",
       "\n",
       "     Credit_History  Property_Area  \n",
       "15                1              2  \n",
       "125               1              1  \n",
       "11                1              2  \n",
       "127               1              1  \n",
       "51                1              2  \n",
       "..              ...            ...  \n",
       "71                1              2  \n",
       "106               1              2  \n",
       "14                1              2  \n",
       "92                1              2  \n",
       "102               1              2  \n",
       "\n",
       "[120 rows x 12 columns]"
      ]
     },
     "execution_count": 223,
     "metadata": {},
     "output_type": "execute_result"
    }
   ],
   "source": [
    "x_train"
   ]
  },
  {
   "cell_type": "code",
   "execution_count": 224,
   "id": "61d4dd17",
   "metadata": {},
   "outputs": [
    {
     "data": {
      "text/plain": [
       "array([1, 0, 1, 0, 1, 0, 1, 1, 1, 1, 1, 0, 0, 1, 1, 1, 0, 0, 1, 0, 0, 1,\n",
       "       1, 1, 0, 0, 1, 1, 1, 0, 0, 1, 1, 1, 1, 1, 1, 0, 0, 1, 1, 0, 0, 1,\n",
       "       1, 1, 0, 0, 1, 1, 1, 1, 0, 1, 1, 0, 0, 1, 0, 1, 1, 0, 1, 0, 0, 0,\n",
       "       0, 1, 1, 1, 0, 0, 1, 1, 1, 0, 0, 1, 1, 1, 1, 0, 0, 1, 1, 0, 1, 0,\n",
       "       0, 0, 0, 0, 1, 1, 0, 1, 1, 1, 1, 0, 0, 0, 1, 0, 1, 1, 0, 1, 1, 1,\n",
       "       0, 0, 0, 0, 1, 0, 1, 1, 1, 1])"
      ]
     },
     "execution_count": 224,
     "metadata": {},
     "output_type": "execute_result"
    }
   ],
   "source": [
    "y_train"
   ]
  },
  {
   "cell_type": "markdown",
   "id": "0a3fe67c",
   "metadata": {},
   "source": [
    "### Scaling the features"
   ]
  },
  {
   "cell_type": "code",
   "execution_count": 225,
   "id": "10e95b9f",
   "metadata": {},
   "outputs": [
    {
     "data": {
      "text/plain": [
       "array([[-1.38752732,  0.24889135,  0.2847474 , ...,  0.        ,\n",
       "         0.        ,  0.32650073],\n",
       "       [ 1.14221862,  0.24889135,  0.2847474 , ...,  0.        ,\n",
       "         0.        , -1.97821033],\n",
       "       [-1.47951808,  0.24889135,  0.2847474 , ...,  0.        ,\n",
       "         0.        ,  0.32650073],\n",
       "       ...,\n",
       "       [-1.41052501,  0.24889135,  0.2847474 , ...,  0.        ,\n",
       "         0.        ,  0.32650073],\n",
       "       [ 0.38329484,  0.24889135, -3.51188458, ...,  0.        ,\n",
       "         0.        ,  0.32650073],\n",
       "       [ 0.61327174,  0.24889135,  0.2847474 , ...,  0.        ,\n",
       "         0.        ,  0.32650073]], shape=(120, 12))"
      ]
     },
     "execution_count": 225,
     "metadata": {},
     "output_type": "execute_result"
    }
   ],
   "source": [
    "sc = StandardScaler()\n",
    "x_scaled = sc.fit_transform(x_train)\n",
    "\n",
    "\n",
    "x_scaled"
   ]
  },
  {
   "cell_type": "code",
   "execution_count": 226,
   "id": "6eecd8eb",
   "metadata": {},
   "outputs": [
    {
     "data": {
      "text/plain": [
       "array([[ 0.01533179,  0.24889135,  0.2847474 , -0.64825417, -0.20851441,\n",
       "        -0.22941573, -0.31273406, -0.56105155, -0.48483011,  0.        ,\n",
       "         0.        ,  0.32650073],\n",
       "       [-1.31853424,  0.24889135,  0.2847474 , -0.64825417, -0.20851441,\n",
       "        -0.22941573, -0.55786309,  0.83937665, -0.07706719,  0.        ,\n",
       "         0.        ,  0.32650073],\n",
       "       [ 0.15331794,  0.24889135,  0.2847474 , -0.64825417, -0.20851441,\n",
       "        -0.22941573, -0.27061044, -0.56105155, -0.5663827 ,  0.        ,\n",
       "         0.        ,  0.32650073],\n",
       "       [ 0.13032025,  0.24889135,  0.2847474 , -0.64825417, -0.20851441,\n",
       "        -0.22941573,  0.06790108, -0.56105155, -0.32172495,  0.        ,\n",
       "         0.        ,  0.32650073],\n",
       "       [ 1.55617704,  0.24889135,  0.2847474 , -0.64825417, -0.20851441,\n",
       "        -0.22941573, -0.18585568, -0.56105155, -0.5663827 ,  0.        ,\n",
       "         0.        ,  0.32650073],\n",
       "       [-1.01956427,  0.24889135,  0.2847474 , -0.64825417,  4.79583152,\n",
       "        -0.22941573, -0.6933692 ,  0.04553392, -0.40327753,  0.        ,\n",
       "         0.        ,  0.32650073],\n",
       "       [ 0.06132717,  0.24889135,  0.2847474 , -0.64825417, -0.20851441,\n",
       "        -0.22941573,  0.23690308, -0.56105155, -0.3706565 ,  0.        ,\n",
       "         0.        ,  0.32650073],\n",
       "       [-0.26064049,  0.24889135,  0.2847474 ,  0.43216944, -0.20851441,\n",
       "        -0.22941573,  4.63958289,  3.8274903 ,  3.73959376,  0.        ,\n",
       "         0.        , -1.97821033],\n",
       "       [-0.4676197 ,  0.24889135,  0.2847474 , -0.64825417, -0.20851441,\n",
       "        -0.22941573, -0.18585568, -0.56105155, -0.5663827 ,  0.        ,\n",
       "         0.        ,  0.32650073],\n",
       "       [ 0.22231101,  0.24889135,  0.2847474 , -0.64825417, -0.20851441,\n",
       "        -0.22941573, -0.18585568, -0.56105155, -0.5663827 ,  0.        ,\n",
       "         0.        ,  0.32650073],\n",
       "       [-0.69759661,  0.24889135,  0.2847474 , -0.64825417, -0.20851441,\n",
       "        -0.22941573, -0.27467055, -0.56105155, -0.48483011,  0.        ,\n",
       "         0.        ,  0.32650073],\n",
       "       [-1.45652039,  0.24889135,  0.2847474 ,  0.43216944, -0.20851441,\n",
       "        -0.22941573, -0.93697569,  0.5752959 , -0.17493029,  0.        ,\n",
       "         0.        ,  0.32650073],\n",
       "       [-0.90457582,  0.24889135,  0.2847474 ,  1.51259305, -0.20851441,\n",
       "        -0.22941573, -0.60861445,  0.17677405,  0.15128004,  0.        ,\n",
       "         0.        ,  0.32650073],\n",
       "       [-1.52551346, -4.01781746, -3.51188458, -0.64825417, -0.20851441,\n",
       "        -0.22941573, -0.25335498, -0.28096591, -0.81104045,  0.        ,\n",
       "         0.        ,  0.32650073],\n",
       "       [-1.29553655,  0.24889135,  0.2847474 , -0.64825417, -0.20851441,\n",
       "        -0.22941573, -0.27467055, -0.56105155, -0.48483011,  0.        ,\n",
       "         0.        ,  0.32650073],\n",
       "       [ 1.4181909 ,  0.24889135,  0.2847474 , -0.64825417, -0.20851441,\n",
       "        -0.22941573, -0.55786309,  0.83937665, -0.07706719,  0.        ,\n",
       "         0.        ,  0.32650073],\n",
       "       [ 0.88924403,  0.24889135,  0.2847474 , -0.64825417, -0.20851441,\n",
       "        -0.22941573,  0.06790108, -0.56105155, -0.32172495,  0.        ,\n",
       "         0.        ,  0.32650073],\n",
       "       [ 1.62517012,  0.24889135,  0.2847474 , -0.64825417, -0.20851441,\n",
       "        -0.22941573, -0.27061044, -0.56105155, -0.5663827 ,  0.        ,\n",
       "         0.        ,  0.32650073],\n",
       "       [-0.44462201,  0.24889135,  0.2847474 , -0.64825417, -0.20851441,\n",
       "        -0.22941573, -0.27061044, -0.56105155, -0.5663827 ,  0.        ,\n",
       "         0.        ,  0.32650073],\n",
       "       [ 1.32620014,  0.24889135,  0.2847474 , -0.64825417, -0.20851441,\n",
       "        -0.22941573,  0.63479368, -0.56105155,  0.06972746,  0.        ,\n",
       "         0.        ,  0.32650073],\n",
       "       [-1.06555965,  0.24889135,  0.2847474 , -0.64825417, -0.20851441,\n",
       "        -0.22941573,  1.16768288, -0.56105155,  0.34700625,  0.        ,\n",
       "         0.        ,  0.32650073],\n",
       "       [ 0.19931332, -4.01781746, -3.51188458, -0.64825417, -0.20851441,\n",
       "        -0.22941573, -0.90449483, -0.56105155, -1.13725079,  0.        ,\n",
       "         0.        , -4.2829214 ],\n",
       "       [-1.13455272,  0.24889135,  0.2847474 , -0.64825417, -0.20851441,\n",
       "        -0.22941573, -0.27061044, -0.56105155, -0.5663827 ,  0.        ,\n",
       "         0.        ,  0.32650073],\n",
       "       [ 1.30320245,  0.24889135,  0.2847474 ,  0.43216944, -0.20851441,\n",
       "        -0.22941573, -1.21813819, -0.12651868, -0.84366149,  0.        ,\n",
       "         0.        ,  0.32650073],\n",
       "       [ 1.11922093,  0.24889135,  0.2847474 , -0.64825417,  4.79583152,\n",
       "        -0.22941573, -0.6933692 ,  0.04553392, -0.40327753,  0.        ,\n",
       "         0.        ,  0.32650073],\n",
       "       [ 1.53317935,  0.24889135,  0.2847474 , -0.64825417, -0.20851441,\n",
       "        -0.22941573, -0.10110092, -0.56105155, -0.48483011,  0.        ,\n",
       "         0.        ,  0.32650073],\n",
       "       [ 0.82025095,  0.24889135,  0.2847474 , -0.64825417, -0.20851441,\n",
       "        -0.22941573,  0.23690308, -0.56105155, -0.3706565 ,  0.        ,\n",
       "         0.        ,  0.32650073],\n",
       "       [-0.19164742,  0.24889135,  0.2847474 ,  1.51259305, -0.20851441,\n",
       "        -0.22941573, -0.3178092 ,  2.68234016,  1.43981088,  0.        ,\n",
       "         0.        ,  0.32650073],\n",
       "       [ 0.52128098, -4.01781746, -3.51188458, -0.64825417, -0.20851441,\n",
       "        -0.22941573, -0.25335498, -0.28096591, -0.81104045,  0.        ,\n",
       "         0.        ,  0.32650073],\n",
       "       [-1.04256196,  0.24889135,  0.2847474 ,  1.51259305, -0.20851441,\n",
       "         4.35889894,  0.8718025 ,  1.1178618 ,  2.40213138,  0.        ,\n",
       "         0.        ,  0.32650073],\n",
       "       [-1.22654348,  0.24889135,  0.2847474 , -0.64825417, -0.20851441,\n",
       "        -0.22941573,  0.23690308, -0.56105155, -0.3706565 ,  0.        ,\n",
       "         0.        ,  0.32650073]])"
      ]
     },
     "execution_count": 226,
     "metadata": {},
     "output_type": "execute_result"
    }
   ],
   "source": [
    "\n",
    "x_test_scaled = sc.transform(x_test)\n",
    "\n",
    "x_test_scaled\n"
   ]
  },
  {
   "cell_type": "markdown",
   "id": "ce2953bc",
   "metadata": {},
   "source": [
    "### Initalizing models"
   ]
  },
  {
   "cell_type": "code",
   "execution_count": 227,
   "id": "a75dae96",
   "metadata": {},
   "outputs": [],
   "source": [
    "models = {\n",
    "    'LogisticRegression' : LogisticRegression(random_state= 42),\n",
    "    'SVM': SVC(random_state= 42),\n",
    "    'Decision Tree': DecisionTreeClassifier(random_state=42),\n",
    "    'Random Forest': RandomForestClassifier(random_state= 42)\n",
    "}"
   ]
  },
  {
   "cell_type": "markdown",
   "id": "52896a3b",
   "metadata": {},
   "source": [
    "### Train and evaluate the models"
   ]
  },
  {
   "cell_type": "code",
   "execution_count": 238,
   "id": "fb25d2e2",
   "metadata": {},
   "outputs": [
    {
     "name": "stdout",
     "output_type": "stream",
     "text": [
      "n LogisticRegression Results:\n",
      "Accuracy: 0.6129032258064516\n",
      "The  prediction is: [1 1 1 1 0 1 1 1 1 1 1 1 1 1 1 0 0 0 1 0 1 0 1 0 0 0 0 1 0 1 1]\n",
      "Classification Report\n",
      "              precision    recall  f1-score   support\n",
      "\n",
      "           0       0.73      0.47      0.57        17\n",
      "           1       0.55      0.79      0.65        14\n",
      "\n",
      "    accuracy                           0.61        31\n",
      "   macro avg       0.64      0.63      0.61        31\n",
      "weighted avg       0.65      0.61      0.61        31\n",
      "\n",
      "n SVM Results:\n",
      "Accuracy: 0.5806451612903226\n",
      "The  prediction is: [1 1 1 1 0 1 1 1 1 1 1 1 1 1 1 0 0 0 1 0 1 0 1 0 1 0 0 1 0 1 1]\n",
      "Classification Report\n",
      "              precision    recall  f1-score   support\n",
      "\n",
      "           0       0.70      0.41      0.52        17\n",
      "           1       0.52      0.79      0.63        14\n",
      "\n",
      "    accuracy                           0.58        31\n",
      "   macro avg       0.61      0.60      0.57        31\n",
      "weighted avg       0.62      0.58      0.57        31\n",
      "\n",
      "n Decision Tree Results:\n",
      "Accuracy: 0.45161290322580644\n",
      "The  prediction is: [1 1 1 1 1 1 1 1 1 1 1 1 1 1 1 1 1 1 1 1 1 1 1 1 1 1 1 1 1 1 1]\n",
      "Classification Report\n",
      "              precision    recall  f1-score   support\n",
      "\n",
      "           0       0.00      0.00      0.00        17\n",
      "           1       0.45      1.00      0.62        14\n",
      "\n",
      "    accuracy                           0.45        31\n",
      "   macro avg       0.23      0.50      0.31        31\n",
      "weighted avg       0.20      0.45      0.28        31\n",
      "\n"
     ]
    },
    {
     "name": "stderr",
     "output_type": "stream",
     "text": [
      "C:\\Users\\hp\\AppData\\Roaming\\Python\\Python313\\site-packages\\sklearn\\utils\\validation.py:2749: UserWarning: X does not have valid feature names, but DecisionTreeClassifier was fitted with feature names\n",
      "  warnings.warn(\n",
      "C:\\Users\\hp\\AppData\\Roaming\\Python\\Python313\\site-packages\\sklearn\\metrics\\_classification.py:1731: UndefinedMetricWarning: Precision is ill-defined and being set to 0.0 in labels with no predicted samples. Use `zero_division` parameter to control this behavior.\n",
      "  _warn_prf(average, modifier, f\"{metric.capitalize()} is\", result.shape[0])\n",
      "C:\\Users\\hp\\AppData\\Roaming\\Python\\Python313\\site-packages\\sklearn\\metrics\\_classification.py:1731: UndefinedMetricWarning: Precision is ill-defined and being set to 0.0 in labels with no predicted samples. Use `zero_division` parameter to control this behavior.\n",
      "  _warn_prf(average, modifier, f\"{metric.capitalize()} is\", result.shape[0])\n",
      "C:\\Users\\hp\\AppData\\Roaming\\Python\\Python313\\site-packages\\sklearn\\metrics\\_classification.py:1731: UndefinedMetricWarning: Precision is ill-defined and being set to 0.0 in labels with no predicted samples. Use `zero_division` parameter to control this behavior.\n",
      "  _warn_prf(average, modifier, f\"{metric.capitalize()} is\", result.shape[0])\n"
     ]
    },
    {
     "name": "stdout",
     "output_type": "stream",
     "text": [
      "n Random Forest Results:\n",
      "Accuracy: 0.5806451612903226\n",
      "The  prediction is: [0 0 0 0 0 0 0 0 0 0 0 0 0 0 0 0 0 0 0 0 0 0 0 0 0 0 0 0 0 1 0]\n",
      "Classification Report\n",
      "              precision    recall  f1-score   support\n",
      "\n",
      "           0       0.57      1.00      0.72        17\n",
      "           1       1.00      0.07      0.13        14\n",
      "\n",
      "    accuracy                           0.58        31\n",
      "   macro avg       0.78      0.54      0.43        31\n",
      "weighted avg       0.76      0.58      0.46        31\n",
      "\n"
     ]
    },
    {
     "name": "stderr",
     "output_type": "stream",
     "text": [
      "C:\\Users\\hp\\AppData\\Roaming\\Python\\Python313\\site-packages\\sklearn\\utils\\validation.py:2749: UserWarning: X does not have valid feature names, but RandomForestClassifier was fitted with feature names\n",
      "  warnings.warn(\n"
     ]
    }
   ],
   "source": [
    "results = {}\n",
    "\n",
    "for name, model in models.items():\n",
    "    if name== 'LogisticRegression' or name == 'SVM':\n",
    "        model.fit(x_scaled, y_train)\n",
    "        y_pred =  model.predict(x_test_scaled)\n",
    "\n",
    "    else: \n",
    "        model.fit(x_train, y_train)\n",
    "        y_pred = model.predict(x_test_scaled)\n",
    "    \n",
    "    acc_score = accuracy_score(y_test, y_pred)\n",
    "    results[name] = acc_score\n",
    "\n",
    "    print(f\"n {name} Results:\")\n",
    "    print(f\"Accuracy:\", acc_score)\n",
    "    print(\"The  prediction is:\",y_pred)\n",
    "    print(\"Classification Report\")\n",
    "    print(classification_report(y_test, y_pred))\n",
    "    "
   ]
  },
  {
   "cell_type": "markdown",
   "id": "96e2f328",
   "metadata": {},
   "source": [
    "### Model Comparison"
   ]
  },
  {
   "cell_type": "code",
   "execution_count": 239,
   "id": "7e7cc752",
   "metadata": {},
   "outputs": [
    {
     "name": "stdout",
     "output_type": "stream",
     "text": [
      "\n",
      " Model Comapison:\n",
      "LogisticRegression: 0.6129\n",
      "SVM: 0.5806\n",
      "Decision Tree: 0.4516\n",
      "Random Forest: 0.5806\n"
     ]
    }
   ],
   "source": [
    "print(\"\\n Model Comapison:\")\n",
    "for name, acc_score in results.items():\n",
    "    print(f\"{name}: {acc_score:.4f}\")"
   ]
  },
  {
   "cell_type": "markdown",
   "id": "0b5c7649",
   "metadata": {},
   "source": [
    "### Plot Comparison"
   ]
  },
  {
   "cell_type": "code",
   "execution_count": 245,
   "id": "2215e3e7",
   "metadata": {},
   "outputs": [
    {
     "data": {
      "image/png": "[encoded data removed]",
      "text/plain": [
       "<Figure size 800x600 with 1 Axes>"
      ]
     },
     "metadata": {},
     "output_type": "display_data"
    }
   ],
   "source": [
    "plt.figure(figsize= (8,6))\n",
    "\n",
    "plt.bar(results.keys(), results.values())\n",
    "\n",
    "plt.title('Model Comparison - Accuracy Score')\n",
    "\n",
    "plt.xlabel(\"Models\")\n",
    "\n",
    "plt.ylabel(\"Accuracy\")\n",
    "\n",
    "plt.xticks(rotation = 0)\n",
    "\n",
    "plt.tight_layout()\n",
    "\n",
    "plt.show()"
   ]
  }
 ],
 "metadata": {
  "kernelspec": {
   "display_name": "base",
   "language": "python",
   "name": "python3"
  },
  "language_info": {
   "codemirror_mode": {
    "name": "ipython",
    "version": 3
   },
   "file_extension": ".py",
   "mimetype": "text/x-python",
   "name": "python",
   "nbconvert_exporter": "python",
   "pygments_lexer": "ipython3",
   "version": "3.13.5"
  }
 },
 "nbformat": 4,
 "nbformat_minor": 5
}
